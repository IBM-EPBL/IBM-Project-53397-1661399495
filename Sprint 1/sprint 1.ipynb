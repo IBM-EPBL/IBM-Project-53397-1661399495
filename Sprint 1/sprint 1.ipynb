{
 "cells": [
  {
   "cell_type": "code",
   "execution_count": 1,
   "id": "5ac3853a",
   "metadata": {},
   "outputs": [],
   "source": [
    "from sklearn.ensemble import RandomForestClassifier\n",
    "from sklearn.preprocessing import LabelEncoder\n",
    "from sklearn.metrics import confusion_matrix\n",
    "from skimage import feature\n",
    "from imutils import build_montages\n",
    "from imutils import paths\n",
    "import numpy as np\n",
    "import cv2\n",
    "import os\n",
    "import pickle"
   ]
  },
  {
   "cell_type": "code",
   "execution_count": 2,
   "id": "d2f58fa5",
   "metadata": {},
   "outputs": [],
   "source": [
    "def quantify_image(image):\n",
    "    # compute the histogram of oriented gradients feature vector for\n",
    "    # the input image\n",
    "    features = feature.hog(image, orientations=9,\n",
    "        pixels_per_cell=(10, 10), cells_per_block=(2, 2),\n",
    "        transform_sqrt=True, block_norm=\"L1\")\n",
    "    # return the feature vector\n",
    "    return features"
   ]
  },
  {
   "cell_type": "code",
   "execution_count": 3,
   "id": "10a696f2",
   "metadata": {},
   "outputs": [],
   "source": [
    "def load_split(path):\n",
    "    # grab the list of images in the input directory, then initialize\n",
    "    # the list of data (i.e., images) and class labels\n",
    "    imagePaths = list(paths.list_images(path))\n",
    "    data = []\n",
    "    labels = []\n",
    "    # loop over the image paths\n",
    "    for imagePath in imagePaths:\n",
    "    # extract the class label from the filename\n",
    "        label = imagePath.split(os.path.sep)[-2]\n",
    "        # load the input image, convert it to grayscale, and resize\n",
    "        # it to 200x200 pixels, ignoring aspect ratio\n",
    "        image = cv2.imread(imagePath)\n",
    "        image = cv2.cvtColor(image, cv2.COLOR_BGR2GRAY)\n",
    "        image = cv2.resize(image, (200, 200))\n",
    "        # threshold the image such that the drawing appears as white\n",
    "        # on a black background\n",
    "        image = cv2.threshold(image, 0, 255,\n",
    "        cv2.THRESH_BINARY_INV | cv2.THRESH_OTSU)[1]\n",
    "        # quantify the image\n",
    "        features = quantify_image(image)\n",
    "        # update the data and labels lists, respectively\n",
    "        data.append(features)\n",
    "        labels.append(label)\n",
    "    # return the data and labels\n",
    "    return (np.array(data), np.array(labels))"
   ]
  },
  {
   "cell_type": "code",
   "execution_count": 4,
   "id": "05f69410",
   "metadata": {},
   "outputs": [
    {
     "name": "stdout",
     "output_type": "stream",
     "text": [
      "[INFO] loading data...\n"
     ]
    }
   ],
   "source": [
    "trainingPath= r\"/Users/pragnya/Desktop/dataset/spiral/training\"\n",
    "testingPath = r\"/Users/pragnya/Desktop/dataset/spiral/testing\"\n",
    "print(\"[INFO] loading data...\")"
   ]
  },
  {
   "cell_type": "code",
   "execution_count": 5,
   "id": "1f8bb96c",
   "metadata": {},
   "outputs": [],
   "source": [
    "(X_train, y_train) = load_split(trainingPath)\n",
    "(X_test, y_test) = load_split(testingPath)"
   ]
  },
  {
   "cell_type": "code",
   "execution_count": 6,
   "id": "3548d60d",
   "metadata": {},
   "outputs": [
    {
     "name": "stdout",
     "output_type": "stream",
     "text": [
      "[INFO] loading data...\n"
     ]
    }
   ],
   "source": [
    "trainingPath= r\"/Users/pragnya/Desktop/dataset/wave/training\"\n",
    "testingPath = r\"/Users/pragnya/Desktop/dataset/wave/testing\"\n",
    "print(\"[INFO] loading data...\")"
   ]
  },
  {
   "cell_type": "code",
   "execution_count": 7,
   "id": "896514fa",
   "metadata": {},
   "outputs": [],
   "source": [
    "(X_train, y_train) = load_split(trainingPath)\n",
    "(X_test, y_test) = load_split(testingPath)"
   ]
  },
  {
   "cell_type": "code",
   "execution_count": 8,
   "id": "d6d12af6",
   "metadata": {},
   "outputs": [],
   "source": [
    "# encode the labels as integers\n",
    "le = LabelEncoder()\n",
    "y_train = le.fit_transform(y_train)\n",
    "y_test = le.transform(y_test)"
   ]
  },
  {
   "cell_type": "code",
   "execution_count": null,
   "id": "5b4ca702",
   "metadata": {},
   "outputs": [],
   "source": []
  }
 ],
 "metadata": {
  "kernelspec": {
   "display_name": "Python 3 (ipykernel)",
   "language": "python",
   "name": "python3"
  },
  "language_info": {
   "codemirror_mode": {
    "name": "ipython",
    "version": 3
   },
   "file_extension": ".py",
   "mimetype": "text/x-python",
   "name": "python",
   "nbconvert_exporter": "python",
   "pygments_lexer": "ipython3",
   "version": "3.9.7"
  }
 },
 "nbformat": 4,
 "nbformat_minor": 5
}
